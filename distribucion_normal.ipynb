{
  "nbformat": 4,
  "nbformat_minor": 0,
  "metadata": {
    "colab": {
      "provenance": [],
      "authorship_tag": "ABX9TyOQaptPcbdYiGdJ4lVBuGu4",
      "include_colab_link": true
    },
    "kernelspec": {
      "name": "python3",
      "display_name": "Python 3"
    },
    "language_info": {
      "name": "python"
    }
  },
  "cells": [
    {
      "cell_type": "markdown",
      "metadata": {
        "id": "view-in-github",
        "colab_type": "text"
      },
      "source": [
        "<a href=\"https://colab.research.google.com/github/carlosmvond/bayes-curso/blob/main/distribucion_normal.ipynb\" target=\"_parent\"><img src=\"https://colab.research.google.com/assets/colab-badge.svg\" alt=\"Open In Colab\"/></a>"
      ]
    },
    {
      "cell_type": "code",
      "execution_count": null,
      "metadata": {
        "id": "3Ao-U6TKW6cL"
      },
      "outputs": [],
      "source": [
        "import numpy as np\n",
        "import matplotlib.pyplot as plt\n",
        "\n",
        "# Especificar los parámetros de la distribución normal\n",
        "mu = 0      # Media\n",
        "sigma = 1   # Desviación estándar\n",
        "n_samples = 1000  # Número de muestras\n",
        "\n",
        "# Generar las muestras\n",
        "samples = np.random.normal(mu, sigma, n_samples)\n",
        "\n",
        "# Imprimir las primeras 10 muestras\n",
        "print(samples[:10])\n",
        "\n",
        "# Graficar un histograma de las muestras\n",
        "plt.hist(samples, bins=30, density=True, alpha=0.6, color='g')\n",
        "\n",
        "# Graficar la función de densidad teórica\n",
        "xmin, xmax = plt.xlim()\n",
        "x = np.linspace(xmin, xmax, 100)\n",
        "p = np.exp(-((x - mu)**2) / (2 * sigma**2)) / (sigma * np.sqrt(2 * np.pi))\n",
        "plt.plot(x, p, 'k', linewidth=2)\n",
        "title = \"Histograma de muestras con curva de densidad\"\n",
        "plt.title(title)\n",
        "plt.show()\n"
      ]
    }
  ]
}